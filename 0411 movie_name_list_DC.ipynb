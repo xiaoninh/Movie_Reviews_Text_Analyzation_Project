{
 "cells": [
  {
   "cell_type": "code",
   "execution_count": 57,
   "metadata": {},
   "outputs": [],
   "source": [
    "import requests\n",
    "from bs4 import BeautifulSoup\n",
    "import time\n",
    "import re\n",
    "import pandas as pd"
   ]
  },
  {
   "cell_type": "markdown",
   "metadata": {},
   "source": [
    "# movie list"
   ]
  },
  {
   "cell_type": "code",
   "execution_count": 58,
   "metadata": {},
   "outputs": [],
   "source": [
    "# fetch html by url\n",
    "url = 'https://www.imdb.com/list/ls020636102/'\n",
    "r = requests.get(url)\n",
    "soup = BeautifulSoup(r.text, 'html.parser')"
   ]
  },
  {
   "cell_type": "markdown",
   "metadata": {},
   "source": [
    "print(soup.prettify())"
   ]
  },
  {
   "cell_type": "code",
   "execution_count": 59,
   "metadata": {
    "scrolled": true
   },
   "outputs": [
    {
     "data": {
      "text/plain": [
       "u'\\n1.\\nSuperman and the Mole-Men\\n(1951)\\n'"
      ]
     },
     "execution_count": 59,
     "metadata": {},
     "output_type": "execute_result"
    }
   ],
   "source": [
    "names=soup.find_all('h3',class_=\"lister-item-header\")\n",
    "names[0].text"
   ]
  },
  {
   "cell_type": "code",
   "execution_count": 68,
   "metadata": {
    "scrolled": true
   },
   "outputs": [
    {
     "name": "stdout",
     "output_type": "stream",
     "text": [
      "(0, u'Superman and the Mole-Men')\n",
      "(1, u'Batman: The Movie')\n",
      "(2, u'Wonder Woman')\n",
      "(3, u' Wonder Woman (1975\\u20131979)')\n",
      "(4, u'Superman')\n",
      "(5, u'Superman II')\n",
      "(6, u'Swamp Thing')\n",
      "(7, u'Superman III')\n",
      "(8, u'Supergirl')\n",
      "(9, u'Superman IV: The Quest for Peace')\n",
      "(10, u'The Spirit')\n",
      "(11, u'The Return of Swamp Thing')\n",
      "(12, u'Batman')\n",
      "(13, u'Batman Returns')\n",
      "(14, u'Batman: Mask of the Phantasm')\n",
      "(15, u'Tank Girl')\n",
      "(16, u'Batman Forever')\n",
      "(17, u'Justice League of America')\n",
      "(18, u'Batman & Robin')\n",
      "(19, u'Steel')\n",
      "(20, u'Gen\\xb9\\xb3')\n",
      "(21, u'Road to Perdition')\n",
      "(22, u'The League of Extraordinary Gentlemen')\n",
      "(23, u'American Splendor')\n",
      "(24, u'Catwoman')\n",
      "(25, u'Constantine')\n",
      "(26, u'V for Vendetta')\n",
      "(27, u'Batman Begins')\n",
      "(28, u'A History of Violence')\n",
      "(29, u'Superman Returns')\n",
      "(30, u'Stardust')\n",
      "(31, u'The Dark Knight')\n",
      "(32, u'The Spirit')\n",
      "(33, u'Watchmen')\n",
      "(34, u'The Losers')\n",
      "(35, u'Jonah Hex')\n",
      "(36, u'RED')\n",
      "(37, u'Green Lantern')\n",
      "(38, u'The Dark Knight Rises')\n",
      "(39, u'Man of Steel')\n",
      "(40, u'RED 2')\n",
      "(41, u'Batman v Superman: Dawn of Justice')\n",
      "(42, u'Suicide Squad')\n",
      "(43, u'The Lego Batman Movie')\n",
      "(44, u'Wonder Woman')\n",
      "(45, u'Justice League')\n",
      "(46, u'Aquaman')\n",
      "(47, u'Shazam!')\n",
      "(48, u'Wonder Woman 1984')\n",
      "(49, u'Green Lantern Corps')\n"
     ]
    }
   ],
   "source": [
    "data = []\n",
    "for i in range(len(names)):\n",
    "    print(i,names[i].text.split('\\n')[2])\n",
    "    data.append(names[i].text.split('\\n')[2])\n",
    "# delete the 2 unreleased movies\n",
    "data = data[:-2]"
   ]
  },
  {
   "cell_type": "code",
   "execution_count": 91,
   "metadata": {
    "scrolled": true
   },
   "outputs": [
    {
     "data": {
      "text/plain": [
       "[u'Superman and the Mole-Men',\n",
       " u'Batman: The Movie',\n",
       " u'Wonder Woman(2009)',\n",
       " u'Wonder Woman(1975-1979)',\n",
       " u'Superman',\n",
       " u'Superman II',\n",
       " u'Swamp Thing',\n",
       " u'Superman III',\n",
       " u'Supergirl',\n",
       " u'Superman IV: The Quest for Peace',\n",
       " u'Spirit(1987)',\n",
       " u'The Return of Swamp Thing',\n",
       " u'Batman',\n",
       " u'Batman Returns',\n",
       " u'Batman: Mask of the Phantasm',\n",
       " u'Tank Girl',\n",
       " u'Batman Forever',\n",
       " u'Justice League of America',\n",
       " u'Batman & Robin',\n",
       " u'Steel',\n",
       " u'Gen 13',\n",
       " u'Road to Perdition',\n",
       " u'The League of Extraordinary Gentlemen',\n",
       " u'American Splendor',\n",
       " u'Catwoman',\n",
       " u'Constantine',\n",
       " u'V for Vendetta',\n",
       " u'Batman Begins',\n",
       " u'A History of Violence',\n",
       " u'Superman Returns',\n",
       " u'Stardust',\n",
       " u'The Dark Knight',\n",
       " u'The Spirit',\n",
       " u'Watchmen',\n",
       " u'The Losers',\n",
       " u'Jonah Hex',\n",
       " u'RED',\n",
       " u'Green Lantern',\n",
       " u'The Dark Knight Rises',\n",
       " u'Man of Steel',\n",
       " u'RED 2',\n",
       " u'Batman v Superman: Dawn of Justice',\n",
       " u'Suicide Squad',\n",
       " u'The Lego Batman Movie',\n",
       " u'Wonder Woman',\n",
       " u'Justice League',\n",
       " u'Aquaman',\n",
       " u'Shazam!']"
      ]
     },
     "execution_count": 91,
     "metadata": {},
     "output_type": "execute_result"
    }
   ],
   "source": [
    "data[2] = u'Wonder Woman(2009)'\n",
    "data[3] = u'Wonder Woman(1975-1979)'\n",
    "data[20] = u'Gen 13'\n",
    "data[10] = u'Spirit(1987)'\n",
    "data"
   ]
  },
  {
   "cell_type": "markdown",
   "metadata": {},
   "source": [
    "# Search for the movie link on rotten tomatoes"
   ]
  },
  {
   "cell_type": "markdown",
   "metadata": {},
   "source": [
    "## BeautifulSoup"
   ]
  },
  {
   "cell_type": "code",
   "execution_count": 122,
   "metadata": {},
   "outputs": [],
   "source": [
    "name = data[5]\n",
    "url = 'https://www.rottentomatoes.com/search/?search=' + name"
   ]
  },
  {
   "cell_type": "code",
   "execution_count": 123,
   "metadata": {},
   "outputs": [
    {
     "data": {
      "text/plain": [
       "u'https://www.rottentomatoes.com/search/?search=Superman II'"
      ]
     },
     "execution_count": 123,
     "metadata": {},
     "output_type": "execute_result"
    }
   ],
   "source": [
    "url"
   ]
  },
  {
   "cell_type": "code",
   "execution_count": 124,
   "metadata": {},
   "outputs": [],
   "source": [
    "# fetch html by url\n",
    "r = requests.get(url)\n",
    "soup = BeautifulSoup(r.text, 'html.parser')"
   ]
  },
  {
   "cell_type": "markdown",
   "metadata": {},
   "source": [
    "print(soup.prettify())"
   ]
  },
  {
   "cell_type": "markdown",
   "metadata": {},
   "source": [
    "https://www.cnblogs.com/my1e3/p/6657926.html\n",
    "\n",
    "（1）查找所有a标签  \n",
    "（2）查找所有a标签，且属性值href中需要保护关键字“Elsie”  \n",
    "（3）查找所有a标签，且字符串内容包含关键字“Elsie”  \n",
    "（4）查找body标签的所有子标签，并循环打印输出  \n",
    "二、信息提取（链接提取）\n",
    "\n"
   ]
  },
  {
   "cell_type": "code",
   "execution_count": 149,
   "metadata": {
    "scrolled": true
   },
   "outputs": [
    {
     "data": {
      "text/plain": [
       "[<script>\\n                        require(['jquery', 'globals', 'search-results', 'bootstrap'], function($, RT, mount) {\\n                            mount($(\"#search-results-root\").get(0), RT.PrivateApiV2FrontendHost, 'Superman II', {\"actorCount\":0,\"criticCount\":0,\"franchiseCount\":1,\"franchises\":[{\"title\":\"Superman\",\"url\":\"/franchise/superman_the_movie\",\"image\":\"https://resizing.flixster.com/pEA1ZwfoX8V4saa2sc_XEoDXNZU=/fit-in/80x80/v1.bjsxNDMzNTIzO2o7MTgwNjE7MTIwMDs2MDA7MjYy\"}],\"movieCount\":4,\"movies\":[{\"name\":\"Superman II\",\"year\":1981,\"url\":\"/m/superman_ii\",\"image\":\"https://resizing.flixster.com/SNyHnvOazpV4jQDgzzrtnKr30og=/fit-in/80x80/v1.bTsxMTI5MDIxNztqOzE4MDg1OzEyMDA7MjI1MDszMDAw\",\"meterClass\":\"certified_fresh\",\"meterScore\":85,\"castItems\":[{\"name\":\"Christopher Reeve\",\"url\":\"/celebrity/christopher_reeve\"},{\"name\":\"Gene Hackman\",\"url\":\"/celebrity/gene_hackman\"},{\"name\":\"Margot Kidder\",\"url\":\"/celebrity/margot_kidder\"}],\"subline\":\"Christopher Reeve, Gene Hackman, Margot Kidder, \"},{\"name\":\"Superman III\",\"year\":1983,\"url\":\"/m/superman_iii\",\"image\":\"https://resizing.flixster.com/A3105o_fWgyephI2h52hm78bL0k=/fit-in/80x80/v1.bTsxMTIwODA1OTtqOzE4MDg0OzEyMDA7MjM1MjszMTM2\",\"meterClass\":\"rotten\",\"meterScore\":24,\"castItems\":[{\"name\":\"Christopher Reeve\",\"url\":\"/celebrity/christopher_reeve\"},{\"name\":\"Richard Pryor\",\"url\":\"/celebrity/richard_pryor\"},{\"name\":\"Robert Vaughn\",\"url\":\"/celebrity/robert_vaughn\"}],\"subline\":\"Christopher Reeve, Richard Pryor, Robert Vaughn, \"}],\"tvCount\":0});\\n                        });\\n                    </script>]"
      ]
     },
     "execution_count": 149,
     "metadata": {},
     "output_type": "execute_result"
    }
   ],
   "source": [
    "# a\n",
    "# class=\"unstyled articleLink\"\n",
    "# href=\"/m/superman_ii\"\n",
    "\n",
    "# names=soup.find_all(\"a\", href = re.compile('/m/'))\n",
    "names=soup.find_all(\"script\", string = re.compile('\"url\":\"/m/'))\n",
    "names#[0].text"
   ]
  },
  {
   "cell_type": "code",
   "execution_count": 168,
   "metadata": {},
   "outputs": [
    {
     "data": {
      "text/plain": [
       "u'superman_ii'"
      ]
     },
     "execution_count": 168,
     "metadata": {},
     "output_type": "execute_result"
    }
   ],
   "source": [
    "names[0].text.split(\"/m/\")[1].split(\",\")[0][:-1]"
   ]
  },
  {
   "cell_type": "markdown",
   "metadata": {},
   "source": [
    "## Xpath: failed"
   ]
  },
  {
   "cell_type": "code",
   "execution_count": 117,
   "metadata": {},
   "outputs": [],
   "source": [
    "name = data[5]\n",
    "url = 'https://www.rottentomatoes.com/search/?search=' + name\n",
    "# url = 'https://www.rottentomatoes.com/m/iron_man/reviews/?page=3&type=user'"
   ]
  },
  {
   "cell_type": "code",
   "execution_count": 118,
   "metadata": {},
   "outputs": [
    {
     "data": {
      "text/plain": [
       "u'https://www.rottentomatoes.com/search/?search=Superman II'"
      ]
     },
     "execution_count": 118,
     "metadata": {},
     "output_type": "execute_result"
    }
   ],
   "source": [
    "url"
   ]
  },
  {
   "cell_type": "code",
   "execution_count": 119,
   "metadata": {},
   "outputs": [],
   "source": [
    "import requests\n",
    "from lxml import etree"
   ]
  },
  {
   "cell_type": "code",
   "execution_count": 120,
   "metadata": {},
   "outputs": [],
   "source": [
    "r = requests.get(url).text\n",
    "s=etree.HTML(r)"
   ]
  },
  {
   "cell_type": "code",
   "execution_count": null,
   "metadata": {},
   "outputs": [],
   "source": [
    "file=s.xpath('//*[@id=\"movieSection\"]/ul/li[1]/div[3]/span[1]/a/text()') \n",
    "print(file)"
   ]
  },
  {
   "cell_type": "markdown",
   "metadata": {},
   "source": [
    "# Intergreted"
   ]
  },
  {
   "cell_type": "code",
   "execution_count": 85,
   "metadata": {
    "scrolled": true
   },
   "outputs": [
    {
     "name": "stdout",
     "output_type": "stream",
     "text": [
      "(0, u'Superman and the Mole-Men', ':', u'superman-and-the-molemen')\n",
      "(1, u'Batman: The Movie', ':', u'batman_the_movie')\n",
      "(2, u'Wonder Woman', ':', u'wonder-woman')\n",
      "(3, u'Wonder Woman(1975-1979)', ':', None)\n",
      "(4, u'Superman', ':', u'superman_ii')\n",
      "(5, u'Superman II', ':', u'superman_ii')\n",
      "(6, u'Swamp Thing', ':', u'swamp_thing')\n",
      "(7, u'Superman III', ':', u'superman_iii')\n",
      "(8, u'Supergirl', ':', u'supergirl')\n",
      "(9, u'Superman IV: The Quest for Peace', ':', u'superman_iv_the_quest_for_peace')\n",
      "(10, u'Spirit(1987)', ':', None)\n",
      "(11, u'The Return of Swamp Thing', ':', u'return_of_swamp_thing')\n",
      "(12, u'Batman', ':', u'batman_begins')\n",
      "(13, u'Batman Returns', ':', u'batman_returns')\n",
      "(14, u'Batman: Mask of the Phantasm', ':', u'batman_mask_of_the_phantasm')\n",
      "(15, u'Tank Girl', ':', u'tank_girl')\n",
      "(16, u'Batman Forever', ':', u'batman_forever')\n",
      "(17, u'Justice League of America', ':', u'justice_league_of_america_1997')\n",
      "(18, u'Batman & Robin', ':', u'batman_begins')\n",
      "(19, u'Steel', ':', u'steel_magnolias')\n",
      "(20, u'Gen 13', ':', u'gen-13')\n",
      "(21, u'Road to Perdition', ':', u'road_to_perdition')\n",
      "(22, u'The League of Extraordinary Gentlemen', ':', u'league_of_extraordinary_gentlemen')\n",
      "(23, u'American Splendor', ':', u'american_splendor')\n",
      "(24, u'Catwoman', ':', u'catwoman')\n",
      "(25, u'Constantine', ':', u'constantine')\n",
      "(26, u'V for Vendetta', ':', u'v_for_vendetta')\n",
      "(27, u'Batman Begins', ':', u'batman_begins')\n",
      "(28, u'A History of Violence', ':', u'history_of_violence')\n",
      "(29, u'Superman Returns', ':', u'superman_returns')\n",
      "(30, u'Stardust', ':', u'stardust_memories')\n",
      "(31, u'The Dark Knight', ':', u'legends-of-the-dark-knight-the-history-of-batman')\n",
      "(32, u'The Spirit', ':', u'spirit_stallion_of_the_cimarron')\n",
      "(33, u'Watchmen', ':', u'watchmen')\n",
      "(34, u'The Losers', ':', u'born_losers')\n",
      "(35, u'Jonah Hex', ':', u'jonah_hex')\n",
      "(36, u'RED', ':', u'1149496-1149496-red_eye')\n",
      "(37, u'Green Lantern', ':', u'green_lantern')\n",
      "(38, u'The Dark Knight Rises', ':', u'the_dark_knight_rises')\n",
      "(39, u'Man of Steel', ':', u'superman_man_of_steel')\n",
      "(40, u'RED 2', ':', u'where_the_red_fern_grows_part_two')\n",
      "(41, u'Batman v Superman: Dawn of Justice', ':', u'batman_v_superman_dawn_of_justice')\n",
      "(42, u'Suicide Squad', ':', u'suicide-squad')\n",
      "(43, u'The Lego Batman Movie', ':', u'lego_batman_the_movie_dc_super_heroes_unite')\n",
      "(44, u'Wonder Woman', ':', u'wonder-woman')\n",
      "(45, u'Justice League', ':', u'justice_league_the_new_frontier')\n",
      "(46, u'Aquaman', ':', u'aquaman_2006')\n",
      "(47, u'Shazam!', ':', u'shazam')\n",
      "CPU times: user 3.37 s, sys: 28 ms, total: 3.4 s\n",
      "Wall time: 1min 31s\n"
     ]
    }
   ],
   "source": [
    "%%time\n",
    "name_links = []\n",
    "for i in range(len(data)):\n",
    "    time.sleep(1)    \n",
    "    try:\n",
    "        name = data[i]\n",
    "        url = 'https://www.rottentomatoes.com/search/?search=' + name\n",
    "        r = requests.get(url)\n",
    "\n",
    "        soup = BeautifulSoup(r.text, 'html.parser')\n",
    "        names=soup.find_all(\"script\", string = re.compile('\"url\":\"/m/'))\n",
    "        name_link = names[0].text.split(\"/m/\")[1].split(\",\")[0][:-1]            \n",
    "    except:\n",
    "        name_link = None\n",
    "        \n",
    "    name_links.append(name_link)\n",
    "    print(i, name,\":\", name_link)"
   ]
  },
  {
   "cell_type": "code",
   "execution_count": 89,
   "metadata": {},
   "outputs": [],
   "source": [
    "name_links[4] = u'superman_the_movie'\n",
    "name_links[12] = u'1001781_batman'\n",
    "name_links[18] = u'1077027_batman_and_robin'\n",
    "name_links[19] = u'1078035_steel'\n",
    "name_links[30] = u'stardust'\n",
    "name_links[31] = u'the_dark_knight'\n",
    "name_links[32] = u'the_spirit'\n",
    "name_links[34] = u'1226860_losers'\n",
    "name_links[36] = u'red'\n",
    "name_links[40] = u'red_2'\n",
    "name_links[42] = u'suicide_squad_2016'\n",
    "name_links[43] = u'the_lego_batman_movie'\n",
    "name_links[44] = u'wonder_woman_2017'\n",
    "name_links[45] = u'justice_league_2017'\n",
    "name_links[46] = u'aquaman_2018'"
   ]
  },
  {
   "cell_type": "markdown",
   "metadata": {},
   "source": [
    "# output"
   ]
  },
  {
   "cell_type": "code",
   "execution_count": 92,
   "metadata": {},
   "outputs": [
    {
     "data": {
      "text/html": [
       "<div>\n",
       "<style scoped>\n",
       "    .dataframe tbody tr th:only-of-type {\n",
       "        vertical-align: middle;\n",
       "    }\n",
       "\n",
       "    .dataframe tbody tr th {\n",
       "        vertical-align: top;\n",
       "    }\n",
       "\n",
       "    .dataframe thead th {\n",
       "        text-align: right;\n",
       "    }\n",
       "</style>\n",
       "<table border=\"1\" class=\"dataframe\">\n",
       "  <thead>\n",
       "    <tr style=\"text-align: right;\">\n",
       "      <th></th>\n",
       "      <th>name</th>\n",
       "      <th>name_link</th>\n",
       "    </tr>\n",
       "  </thead>\n",
       "  <tbody>\n",
       "    <tr>\n",
       "      <th>0</th>\n",
       "      <td>Superman and the Mole-Men</td>\n",
       "      <td>superman-and-the-molemen</td>\n",
       "    </tr>\n",
       "    <tr>\n",
       "      <th>1</th>\n",
       "      <td>Batman: The Movie</td>\n",
       "      <td>batman_the_movie</td>\n",
       "    </tr>\n",
       "    <tr>\n",
       "      <th>2</th>\n",
       "      <td>Wonder Woman(2009)</td>\n",
       "      <td>wonder-woman</td>\n",
       "    </tr>\n",
       "    <tr>\n",
       "      <th>3</th>\n",
       "      <td>Superman</td>\n",
       "      <td>superman_the_movie</td>\n",
       "    </tr>\n",
       "    <tr>\n",
       "      <th>4</th>\n",
       "      <td>Superman II</td>\n",
       "      <td>superman_ii</td>\n",
       "    </tr>\n",
       "    <tr>\n",
       "      <th>5</th>\n",
       "      <td>Swamp Thing</td>\n",
       "      <td>swamp_thing</td>\n",
       "    </tr>\n",
       "    <tr>\n",
       "      <th>6</th>\n",
       "      <td>Superman III</td>\n",
       "      <td>superman_iii</td>\n",
       "    </tr>\n",
       "    <tr>\n",
       "      <th>7</th>\n",
       "      <td>Supergirl</td>\n",
       "      <td>supergirl</td>\n",
       "    </tr>\n",
       "    <tr>\n",
       "      <th>8</th>\n",
       "      <td>Superman IV: The Quest for Peace</td>\n",
       "      <td>superman_iv_the_quest_for_peace</td>\n",
       "    </tr>\n",
       "    <tr>\n",
       "      <th>9</th>\n",
       "      <td>The Return of Swamp Thing</td>\n",
       "      <td>return_of_swamp_thing</td>\n",
       "    </tr>\n",
       "    <tr>\n",
       "      <th>10</th>\n",
       "      <td>Batman</td>\n",
       "      <td>1001781_batman</td>\n",
       "    </tr>\n",
       "    <tr>\n",
       "      <th>11</th>\n",
       "      <td>Batman Returns</td>\n",
       "      <td>batman_returns</td>\n",
       "    </tr>\n",
       "    <tr>\n",
       "      <th>12</th>\n",
       "      <td>Batman: Mask of the Phantasm</td>\n",
       "      <td>batman_mask_of_the_phantasm</td>\n",
       "    </tr>\n",
       "    <tr>\n",
       "      <th>13</th>\n",
       "      <td>Tank Girl</td>\n",
       "      <td>tank_girl</td>\n",
       "    </tr>\n",
       "    <tr>\n",
       "      <th>14</th>\n",
       "      <td>Batman Forever</td>\n",
       "      <td>batman_forever</td>\n",
       "    </tr>\n",
       "    <tr>\n",
       "      <th>15</th>\n",
       "      <td>Justice League of America</td>\n",
       "      <td>justice_league_of_america_1997</td>\n",
       "    </tr>\n",
       "    <tr>\n",
       "      <th>16</th>\n",
       "      <td>Batman &amp; Robin</td>\n",
       "      <td>1077027_batman_and_robin</td>\n",
       "    </tr>\n",
       "    <tr>\n",
       "      <th>17</th>\n",
       "      <td>Steel</td>\n",
       "      <td>1078035_steel</td>\n",
       "    </tr>\n",
       "    <tr>\n",
       "      <th>18</th>\n",
       "      <td>Gen 13</td>\n",
       "      <td>gen-13</td>\n",
       "    </tr>\n",
       "    <tr>\n",
       "      <th>19</th>\n",
       "      <td>Road to Perdition</td>\n",
       "      <td>road_to_perdition</td>\n",
       "    </tr>\n",
       "    <tr>\n",
       "      <th>20</th>\n",
       "      <td>The League of Extraordinary Gentlemen</td>\n",
       "      <td>league_of_extraordinary_gentlemen</td>\n",
       "    </tr>\n",
       "    <tr>\n",
       "      <th>21</th>\n",
       "      <td>American Splendor</td>\n",
       "      <td>american_splendor</td>\n",
       "    </tr>\n",
       "    <tr>\n",
       "      <th>22</th>\n",
       "      <td>Catwoman</td>\n",
       "      <td>catwoman</td>\n",
       "    </tr>\n",
       "    <tr>\n",
       "      <th>23</th>\n",
       "      <td>Constantine</td>\n",
       "      <td>constantine</td>\n",
       "    </tr>\n",
       "    <tr>\n",
       "      <th>24</th>\n",
       "      <td>V for Vendetta</td>\n",
       "      <td>v_for_vendetta</td>\n",
       "    </tr>\n",
       "    <tr>\n",
       "      <th>25</th>\n",
       "      <td>Batman Begins</td>\n",
       "      <td>batman_begins</td>\n",
       "    </tr>\n",
       "    <tr>\n",
       "      <th>26</th>\n",
       "      <td>A History of Violence</td>\n",
       "      <td>history_of_violence</td>\n",
       "    </tr>\n",
       "    <tr>\n",
       "      <th>27</th>\n",
       "      <td>Superman Returns</td>\n",
       "      <td>superman_returns</td>\n",
       "    </tr>\n",
       "    <tr>\n",
       "      <th>28</th>\n",
       "      <td>Stardust</td>\n",
       "      <td>stardust</td>\n",
       "    </tr>\n",
       "    <tr>\n",
       "      <th>29</th>\n",
       "      <td>The Dark Knight</td>\n",
       "      <td>the_dark_knight</td>\n",
       "    </tr>\n",
       "    <tr>\n",
       "      <th>30</th>\n",
       "      <td>The Spirit</td>\n",
       "      <td>the_spirit</td>\n",
       "    </tr>\n",
       "    <tr>\n",
       "      <th>31</th>\n",
       "      <td>Watchmen</td>\n",
       "      <td>watchmen</td>\n",
       "    </tr>\n",
       "    <tr>\n",
       "      <th>32</th>\n",
       "      <td>The Losers</td>\n",
       "      <td>1226860_losers</td>\n",
       "    </tr>\n",
       "    <tr>\n",
       "      <th>33</th>\n",
       "      <td>Jonah Hex</td>\n",
       "      <td>jonah_hex</td>\n",
       "    </tr>\n",
       "    <tr>\n",
       "      <th>34</th>\n",
       "      <td>RED</td>\n",
       "      <td>red</td>\n",
       "    </tr>\n",
       "    <tr>\n",
       "      <th>35</th>\n",
       "      <td>Green Lantern</td>\n",
       "      <td>green_lantern</td>\n",
       "    </tr>\n",
       "    <tr>\n",
       "      <th>36</th>\n",
       "      <td>The Dark Knight Rises</td>\n",
       "      <td>the_dark_knight_rises</td>\n",
       "    </tr>\n",
       "    <tr>\n",
       "      <th>37</th>\n",
       "      <td>Man of Steel</td>\n",
       "      <td>superman_man_of_steel</td>\n",
       "    </tr>\n",
       "    <tr>\n",
       "      <th>38</th>\n",
       "      <td>RED 2</td>\n",
       "      <td>red_2</td>\n",
       "    </tr>\n",
       "    <tr>\n",
       "      <th>39</th>\n",
       "      <td>Batman v Superman: Dawn of Justice</td>\n",
       "      <td>batman_v_superman_dawn_of_justice</td>\n",
       "    </tr>\n",
       "    <tr>\n",
       "      <th>40</th>\n",
       "      <td>Suicide Squad</td>\n",
       "      <td>suicide_squad_2016</td>\n",
       "    </tr>\n",
       "    <tr>\n",
       "      <th>41</th>\n",
       "      <td>The Lego Batman Movie</td>\n",
       "      <td>the_lego_batman_movie</td>\n",
       "    </tr>\n",
       "    <tr>\n",
       "      <th>42</th>\n",
       "      <td>Wonder Woman</td>\n",
       "      <td>wonder_woman_2017</td>\n",
       "    </tr>\n",
       "    <tr>\n",
       "      <th>43</th>\n",
       "      <td>Justice League</td>\n",
       "      <td>justice_league_2017</td>\n",
       "    </tr>\n",
       "    <tr>\n",
       "      <th>44</th>\n",
       "      <td>Aquaman</td>\n",
       "      <td>aquaman_2018</td>\n",
       "    </tr>\n",
       "    <tr>\n",
       "      <th>45</th>\n",
       "      <td>Shazam!</td>\n",
       "      <td>shazam</td>\n",
       "    </tr>\n",
       "  </tbody>\n",
       "</table>\n",
       "</div>"
      ],
      "text/plain": [
       "                                     name                          name_link\n",
       "0               Superman and the Mole-Men           superman-and-the-molemen\n",
       "1                       Batman: The Movie                   batman_the_movie\n",
       "2                      Wonder Woman(2009)                       wonder-woman\n",
       "3                                Superman                 superman_the_movie\n",
       "4                             Superman II                        superman_ii\n",
       "5                             Swamp Thing                        swamp_thing\n",
       "6                            Superman III                       superman_iii\n",
       "7                               Supergirl                          supergirl\n",
       "8        Superman IV: The Quest for Peace    superman_iv_the_quest_for_peace\n",
       "9               The Return of Swamp Thing              return_of_swamp_thing\n",
       "10                                 Batman                     1001781_batman\n",
       "11                         Batman Returns                     batman_returns\n",
       "12           Batman: Mask of the Phantasm        batman_mask_of_the_phantasm\n",
       "13                              Tank Girl                          tank_girl\n",
       "14                         Batman Forever                     batman_forever\n",
       "15              Justice League of America     justice_league_of_america_1997\n",
       "16                         Batman & Robin           1077027_batman_and_robin\n",
       "17                                  Steel                      1078035_steel\n",
       "18                                 Gen 13                             gen-13\n",
       "19                      Road to Perdition                  road_to_perdition\n",
       "20  The League of Extraordinary Gentlemen  league_of_extraordinary_gentlemen\n",
       "21                      American Splendor                  american_splendor\n",
       "22                               Catwoman                           catwoman\n",
       "23                            Constantine                        constantine\n",
       "24                         V for Vendetta                     v_for_vendetta\n",
       "25                          Batman Begins                      batman_begins\n",
       "26                  A History of Violence                history_of_violence\n",
       "27                       Superman Returns                   superman_returns\n",
       "28                               Stardust                           stardust\n",
       "29                        The Dark Knight                    the_dark_knight\n",
       "30                             The Spirit                         the_spirit\n",
       "31                               Watchmen                           watchmen\n",
       "32                             The Losers                     1226860_losers\n",
       "33                              Jonah Hex                          jonah_hex\n",
       "34                                    RED                                red\n",
       "35                          Green Lantern                      green_lantern\n",
       "36                  The Dark Knight Rises              the_dark_knight_rises\n",
       "37                           Man of Steel              superman_man_of_steel\n",
       "38                                  RED 2                              red_2\n",
       "39     Batman v Superman: Dawn of Justice  batman_v_superman_dawn_of_justice\n",
       "40                          Suicide Squad                 suicide_squad_2016\n",
       "41                  The Lego Batman Movie              the_lego_batman_movie\n",
       "42                           Wonder Woman                  wonder_woman_2017\n",
       "43                         Justice League                justice_league_2017\n",
       "44                                Aquaman                       aquaman_2018\n",
       "45                                Shazam!                             shazam"
      ]
     },
     "execution_count": 92,
     "metadata": {},
     "output_type": "execute_result"
    }
   ],
   "source": [
    "df = pd.DataFrame({'name':data, 'name_link': name_links}).dropna(how='any').reset_index(drop=True)\n",
    "df.to_csv('Movielist_DC.csv')\n",
    "df"
   ]
  },
  {
   "cell_type": "code",
   "execution_count": null,
   "metadata": {},
   "outputs": [],
   "source": []
  }
 ],
 "metadata": {
  "kernelspec": {
   "display_name": "myEnv",
   "language": "python",
   "name": "myenv"
  },
  "language_info": {
   "codemirror_mode": {
    "name": "ipython",
    "version": 2
   },
   "file_extension": ".py",
   "mimetype": "text/x-python",
   "name": "python",
   "nbconvert_exporter": "python",
   "pygments_lexer": "ipython2",
   "version": "2.7.15"
  }
 },
 "nbformat": 4,
 "nbformat_minor": 2
}

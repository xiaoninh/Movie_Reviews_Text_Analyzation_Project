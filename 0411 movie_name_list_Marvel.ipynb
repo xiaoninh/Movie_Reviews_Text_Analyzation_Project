{
 "cells": [
  {
   "cell_type": "code",
   "execution_count": 9,
   "metadata": {},
   "outputs": [],
   "source": [
    "import requests\n",
    "from bs4 import BeautifulSoup\n",
    "import time\n",
    "import re\n",
    "import pandas as pd"
   ]
  },
  {
   "cell_type": "markdown",
   "metadata": {},
   "source": [
    "# movie list"
   ]
  },
  {
   "cell_type": "code",
   "execution_count": 10,
   "metadata": {},
   "outputs": [],
   "source": [
    "# fetch html by url\n",
    "url = 'https://www.imdb.com/list/ls020525837/'\n",
    "r = requests.get(url)\n",
    "soup = BeautifulSoup(r.text, 'html.parser')"
   ]
  },
  {
   "cell_type": "markdown",
   "metadata": {},
   "source": [
    "print(soup.prettify())"
   ]
  },
  {
   "cell_type": "code",
   "execution_count": 11,
   "metadata": {
    "scrolled": true
   },
   "outputs": [
    {
     "data": {
      "text/plain": [
       "u'\\n1.\\nCaptain America: The First Avenger\\n(2011)\\n'"
      ]
     },
     "execution_count": 11,
     "metadata": {},
     "output_type": "execute_result"
    }
   ],
   "source": [
    "names=soup.find_all('h3',class_=\"lister-item-header\")\n",
    "names[0].text"
   ]
  },
  {
   "cell_type": "code",
   "execution_count": 12,
   "metadata": {
    "scrolled": true
   },
   "outputs": [
    {
     "name": "stdout",
     "output_type": "stream",
     "text": [
      "(0, u'Captain America: The First Avenger')\n",
      "(1, u'Iron Man')\n",
      "(2, u'The Incredible Hulk')\n",
      "(3, u'Iron Man 2')\n",
      "(4, u'Thor')\n",
      "(5, u'The Avengers')\n",
      "(6, u'Iron Man Three')\n",
      "(7, u'Thor: The Dark World')\n",
      "(8, u'Captain America: The Winter Soldier')\n",
      "(9, u'Guardians of the Galaxy')\n",
      "(10, u'Guardians of the Galaxy Vol. 2')\n",
      "(11, u'Avengers: Age of Ultron')\n",
      "(12, u'Ant-Man')\n",
      "(13, u'Captain America: Civil War')\n",
      "(14, u'Spider-Man: Homecoming')\n",
      "(15, u'Doctor Strange')\n",
      "(16, u'Thor: Ragnarok')\n",
      "(17, u'Black Panther')\n",
      "(18, u'Avengers: Infinity War')\n",
      "(19, u'Ant-Man and the Wasp')\n",
      "(20, u'Captain Marvel')\n"
     ]
    }
   ],
   "source": [
    "data = []\n",
    "for i in range(len(names)):\n",
    "    print(i,names[i].text.split('\\n')[2])\n",
    "    data.append(names[i].text.split('\\n')[2])\n",
    "# delete the 2 unreleased movies\n",
    "data = data"
   ]
  },
  {
   "cell_type": "markdown",
   "metadata": {
    "scrolled": true
   },
   "source": [
    "data[2] = u'Wonder Woman'\n",
    "data[3] = u'Wonder Woman(1975-1979)'\n",
    "data[20] = u'Gen 13'\n",
    "data[10] = u'Spirit(1987)'\n",
    "data"
   ]
  },
  {
   "cell_type": "markdown",
   "metadata": {},
   "source": [
    "# Search for the movie link on rotten tomatoes"
   ]
  },
  {
   "cell_type": "markdown",
   "metadata": {},
   "source": [
    "## BeautifulSoup"
   ]
  },
  {
   "cell_type": "markdown",
   "metadata": {},
   "source": [
    "# Intergreted"
   ]
  },
  {
   "cell_type": "code",
   "execution_count": 13,
   "metadata": {
    "scrolled": true
   },
   "outputs": [
    {
     "name": "stdout",
     "output_type": "stream",
     "text": [
      "(0, u'Captain America: The First Avenger', ':', u'captain_america_the_first_avenger')\n",
      "(1, u'Iron Man', ':', u'1082400-man_in_the_iron_mask')\n",
      "(2, u'The Incredible Hulk', ':', u'death_of_the_incredible_hulk')\n",
      "(3, u'Iron Man 2', ':', u'iron_man_2')\n",
      "(4, u'Thor', ':', u'thoroughly_modern_millie')\n",
      "(5, u'The Avengers', ':', u'1083461-avengers')\n",
      "(6, u'Iron Man Three', ':', u'iron_man_2')\n",
      "(7, u'Thor: The Dark World', ':', u'thor_the_dark_world')\n",
      "(8, u'Captain America: The Winter Soldier', ':', u'captain_america_the_winter_soldier_2014')\n",
      "(9, u'Guardians of the Galaxy', ':', u'guardians_of_the_galaxy')\n",
      "(10, u'Guardians of the Galaxy Vol. 2', ':', u'guardians_of_the_galaxy_vol_2')\n",
      "(11, u'Avengers: Age of Ultron', ':', u'avengers_age_of_ultron')\n",
      "(12, u'Ant-Man', ':', u'antman')\n",
      "(13, u'Captain America: Civil War', ':', u'captain_america_civil_war')\n",
      "(14, u'Spider-Man: Homecoming', ':', u'spider_man_homecoming')\n",
      "(15, u'Doctor Strange', ':', u'dr_strangelove')\n",
      "(16, u'Thor: Ragnarok', ':', u'thor_ragnarok_2017')\n",
      "(17, u'Black Panther', ':', u'black_panther_warriors')\n",
      "(18, u'Avengers: Infinity War', ':', u'avengers_infinity_war')\n",
      "(19, u'Ant-Man and the Wasp', ':', u'ant_man_and_the_wasp')\n",
      "(20, u'Captain Marvel', ':', u'the_adventures_of_captain_marvel')\n",
      "CPU times: user 1.6 s, sys: 0 ns, total: 1.6 s\n",
      "Wall time: 41.5 s\n"
     ]
    }
   ],
   "source": [
    "%%time\n",
    "name_links = []\n",
    "for i in range(len(data)):\n",
    "    time.sleep(1)    \n",
    "    try:\n",
    "        name = data[i]\n",
    "        url = 'https://www.rottentomatoes.com/search/?search=' + name\n",
    "        r = requests.get(url)\n",
    "\n",
    "        soup = BeautifulSoup(r.text, 'html.parser')\n",
    "        names=soup.find_all(\"script\", string = re.compile('\"url\":\"/m/'))\n",
    "        name_link = names[0].text.split(\"/m/\")[1].split(\",\")[0][:-1]            \n",
    "    except:\n",
    "        name_link = None\n",
    "        \n",
    "    name_links.append(name_link)\n",
    "    print(i, name,\":\", name_link)"
   ]
  },
  {
   "cell_type": "code",
   "execution_count": 20,
   "metadata": {},
   "outputs": [],
   "source": [
    "name_links[1] = u'iron_man'\n",
    "name_links[2] = u'the_incredible_hulk'\n",
    "name_links[4] = u'thor'\n",
    "name_links[5] = u'marvels_the_avengers'\n",
    "name_links[6] = u'iron_man_3'\n",
    "name_links[15] = u'doctor_strange_2016'\n",
    "name_links[17] = u'black_panther_2018'\n",
    "name_links[20] = u'captain_marvel'"
   ]
  },
  {
   "cell_type": "markdown",
   "metadata": {},
   "source": [
    "# output"
   ]
  },
  {
   "cell_type": "code",
   "execution_count": 21,
   "metadata": {},
   "outputs": [
    {
     "data": {
      "text/html": [
       "<div>\n",
       "<style scoped>\n",
       "    .dataframe tbody tr th:only-of-type {\n",
       "        vertical-align: middle;\n",
       "    }\n",
       "\n",
       "    .dataframe tbody tr th {\n",
       "        vertical-align: top;\n",
       "    }\n",
       "\n",
       "    .dataframe thead th {\n",
       "        text-align: right;\n",
       "    }\n",
       "</style>\n",
       "<table border=\"1\" class=\"dataframe\">\n",
       "  <thead>\n",
       "    <tr style=\"text-align: right;\">\n",
       "      <th></th>\n",
       "      <th>name</th>\n",
       "      <th>name_link</th>\n",
       "    </tr>\n",
       "  </thead>\n",
       "  <tbody>\n",
       "    <tr>\n",
       "      <th>0</th>\n",
       "      <td>Captain America: The First Avenger</td>\n",
       "      <td>captain_america_the_first_avenger</td>\n",
       "    </tr>\n",
       "    <tr>\n",
       "      <th>1</th>\n",
       "      <td>Iron Man</td>\n",
       "      <td>iron_man</td>\n",
       "    </tr>\n",
       "    <tr>\n",
       "      <th>2</th>\n",
       "      <td>The Incredible Hulk</td>\n",
       "      <td>the_incredible_hulk</td>\n",
       "    </tr>\n",
       "    <tr>\n",
       "      <th>3</th>\n",
       "      <td>Iron Man 2</td>\n",
       "      <td>iron_man_2</td>\n",
       "    </tr>\n",
       "    <tr>\n",
       "      <th>4</th>\n",
       "      <td>Thor</td>\n",
       "      <td>thor</td>\n",
       "    </tr>\n",
       "    <tr>\n",
       "      <th>5</th>\n",
       "      <td>The Avengers</td>\n",
       "      <td>marvels_the_avengers</td>\n",
       "    </tr>\n",
       "    <tr>\n",
       "      <th>6</th>\n",
       "      <td>Iron Man Three</td>\n",
       "      <td>iron_man_3</td>\n",
       "    </tr>\n",
       "    <tr>\n",
       "      <th>7</th>\n",
       "      <td>Thor: The Dark World</td>\n",
       "      <td>thor_the_dark_world</td>\n",
       "    </tr>\n",
       "    <tr>\n",
       "      <th>8</th>\n",
       "      <td>Captain America: The Winter Soldier</td>\n",
       "      <td>captain_america_the_winter_soldier_2014</td>\n",
       "    </tr>\n",
       "    <tr>\n",
       "      <th>9</th>\n",
       "      <td>Guardians of the Galaxy</td>\n",
       "      <td>guardians_of_the_galaxy</td>\n",
       "    </tr>\n",
       "    <tr>\n",
       "      <th>10</th>\n",
       "      <td>Guardians of the Galaxy Vol. 2</td>\n",
       "      <td>guardians_of_the_galaxy_vol_2</td>\n",
       "    </tr>\n",
       "    <tr>\n",
       "      <th>11</th>\n",
       "      <td>Avengers: Age of Ultron</td>\n",
       "      <td>avengers_age_of_ultron</td>\n",
       "    </tr>\n",
       "    <tr>\n",
       "      <th>12</th>\n",
       "      <td>Ant-Man</td>\n",
       "      <td>antman</td>\n",
       "    </tr>\n",
       "    <tr>\n",
       "      <th>13</th>\n",
       "      <td>Captain America: Civil War</td>\n",
       "      <td>captain_america_civil_war</td>\n",
       "    </tr>\n",
       "    <tr>\n",
       "      <th>14</th>\n",
       "      <td>Spider-Man: Homecoming</td>\n",
       "      <td>spider_man_homecoming</td>\n",
       "    </tr>\n",
       "    <tr>\n",
       "      <th>15</th>\n",
       "      <td>Doctor Strange</td>\n",
       "      <td>doctor_strange_2016</td>\n",
       "    </tr>\n",
       "    <tr>\n",
       "      <th>16</th>\n",
       "      <td>Thor: Ragnarok</td>\n",
       "      <td>thor_ragnarok_2017</td>\n",
       "    </tr>\n",
       "    <tr>\n",
       "      <th>17</th>\n",
       "      <td>Black Panther</td>\n",
       "      <td>black_panther_2018</td>\n",
       "    </tr>\n",
       "    <tr>\n",
       "      <th>18</th>\n",
       "      <td>Avengers: Infinity War</td>\n",
       "      <td>avengers_infinity_war</td>\n",
       "    </tr>\n",
       "    <tr>\n",
       "      <th>19</th>\n",
       "      <td>Ant-Man and the Wasp</td>\n",
       "      <td>ant_man_and_the_wasp</td>\n",
       "    </tr>\n",
       "    <tr>\n",
       "      <th>20</th>\n",
       "      <td>Captain Marvel</td>\n",
       "      <td>captain_marvel</td>\n",
       "    </tr>\n",
       "  </tbody>\n",
       "</table>\n",
       "</div>"
      ],
      "text/plain": [
       "                                   name  \\\n",
       "0    Captain America: The First Avenger   \n",
       "1                              Iron Man   \n",
       "2                   The Incredible Hulk   \n",
       "3                            Iron Man 2   \n",
       "4                                  Thor   \n",
       "5                          The Avengers   \n",
       "6                        Iron Man Three   \n",
       "7                  Thor: The Dark World   \n",
       "8   Captain America: The Winter Soldier   \n",
       "9               Guardians of the Galaxy   \n",
       "10       Guardians of the Galaxy Vol. 2   \n",
       "11              Avengers: Age of Ultron   \n",
       "12                              Ant-Man   \n",
       "13           Captain America: Civil War   \n",
       "14               Spider-Man: Homecoming   \n",
       "15                       Doctor Strange   \n",
       "16                       Thor: Ragnarok   \n",
       "17                        Black Panther   \n",
       "18               Avengers: Infinity War   \n",
       "19                 Ant-Man and the Wasp   \n",
       "20                       Captain Marvel   \n",
       "\n",
       "                                  name_link  \n",
       "0         captain_america_the_first_avenger  \n",
       "1                                  iron_man  \n",
       "2                       the_incredible_hulk  \n",
       "3                                iron_man_2  \n",
       "4                                      thor  \n",
       "5                      marvels_the_avengers  \n",
       "6                                iron_man_3  \n",
       "7                       thor_the_dark_world  \n",
       "8   captain_america_the_winter_soldier_2014  \n",
       "9                   guardians_of_the_galaxy  \n",
       "10            guardians_of_the_galaxy_vol_2  \n",
       "11                   avengers_age_of_ultron  \n",
       "12                                   antman  \n",
       "13                captain_america_civil_war  \n",
       "14                    spider_man_homecoming  \n",
       "15                      doctor_strange_2016  \n",
       "16                       thor_ragnarok_2017  \n",
       "17                       black_panther_2018  \n",
       "18                    avengers_infinity_war  \n",
       "19                     ant_man_and_the_wasp  \n",
       "20                           captain_marvel  "
      ]
     },
     "execution_count": 21,
     "metadata": {},
     "output_type": "execute_result"
    }
   ],
   "source": [
    "df = pd.DataFrame({'name':data, 'name_link': name_links}).dropna(how='any').reset_index(drop=True)\n",
    "df.to_csv('Movielist_Marvel.csv', index=False)\n",
    "df"
   ]
  },
  {
   "cell_type": "code",
   "execution_count": null,
   "metadata": {},
   "outputs": [],
   "source": []
  }
 ],
 "metadata": {
  "kernelspec": {
   "display_name": "myEnv",
   "language": "python",
   "name": "myenv"
  },
  "language_info": {
   "codemirror_mode": {
    "name": "ipython",
    "version": 2
   },
   "file_extension": ".py",
   "mimetype": "text/x-python",
   "name": "python",
   "nbconvert_exporter": "python",
   "pygments_lexer": "ipython2",
   "version": "2.7.15"
  }
 },
 "nbformat": 4,
 "nbformat_minor": 2
}

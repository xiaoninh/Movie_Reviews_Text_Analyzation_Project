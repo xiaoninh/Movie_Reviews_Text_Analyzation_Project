{
 "cells": [
  {
   "cell_type": "code",
   "execution_count": 89,
   "metadata": {
    "ExecuteTime": {
     "end_time": "2019-05-14T02:27:44.166400Z",
     "start_time": "2019-05-14T02:27:44.160445Z"
    }
   },
   "outputs": [],
   "source": [
    "import pandas as pd\n",
    "import numpy as np\n",
    "import matplotlib.pyplot as plt\n",
    "%matplotlib inline"
   ]
  },
  {
   "cell_type": "code",
   "execution_count": 75,
   "metadata": {
    "ExecuteTime": {
     "end_time": "2019-05-14T02:19:44.224614Z",
     "start_time": "2019-05-14T02:19:44.138769Z"
    },
    "scrolled": true
   },
   "outputs": [
    {
     "name": "stdout",
     "output_type": "stream",
     "text": [
      "(25, 6)\n"
     ]
    },
    {
     "data": {
      "text/html": [
       "<div>\n",
       "<style scoped>\n",
       "    .dataframe tbody tr th:only-of-type {\n",
       "        vertical-align: middle;\n",
       "    }\n",
       "\n",
       "    .dataframe tbody tr th {\n",
       "        vertical-align: top;\n",
       "    }\n",
       "\n",
       "    .dataframe thead th {\n",
       "        text-align: right;\n",
       "    }\n",
       "</style>\n",
       "<table border=\"1\" class=\"dataframe\">\n",
       "  <thead>\n",
       "    <tr style=\"text-align: right;\">\n",
       "      <th></th>\n",
       "      <th>name</th>\n",
       "      <th>score_critical</th>\n",
       "      <th>score_audience</th>\n",
       "      <th>count_audience</th>\n",
       "      <th>In_Theaters</th>\n",
       "      <th>Box_Office</th>\n",
       "    </tr>\n",
       "  </thead>\n",
       "  <tbody>\n",
       "    <tr>\n",
       "      <th>19</th>\n",
       "      <td>Road to Perdition</td>\n",
       "      <td>80</td>\n",
       "      <td>86</td>\n",
       "      <td>188635</td>\n",
       "      <td>2002-07-12</td>\n",
       "      <td>104054514</td>\n",
       "    </tr>\n",
       "    <tr>\n",
       "      <th>20</th>\n",
       "      <td>The League of Extraordinary Gentlemen</td>\n",
       "      <td>17</td>\n",
       "      <td>44</td>\n",
       "      <td>422489</td>\n",
       "      <td>2003-07-11</td>\n",
       "      <td>66327144</td>\n",
       "    </tr>\n",
       "    <tr>\n",
       "      <th>21</th>\n",
       "      <td>American Splendor</td>\n",
       "      <td>94</td>\n",
       "      <td>86</td>\n",
       "      <td>44524</td>\n",
       "      <td>2003-08-15</td>\n",
       "      <td>5977550</td>\n",
       "    </tr>\n",
       "    <tr>\n",
       "      <th>22</th>\n",
       "      <td>Catwoman</td>\n",
       "      <td>9</td>\n",
       "      <td>18</td>\n",
       "      <td>274698</td>\n",
       "      <td>2004-07-23</td>\n",
       "      <td>40200000</td>\n",
       "    </tr>\n",
       "    <tr>\n",
       "      <th>23</th>\n",
       "      <td>Constantine</td>\n",
       "      <td>46</td>\n",
       "      <td>72</td>\n",
       "      <td>468035</td>\n",
       "      <td>2005-02-18</td>\n",
       "      <td>75400000</td>\n",
       "    </tr>\n",
       "    <tr>\n",
       "      <th>25</th>\n",
       "      <td>Batman Begins</td>\n",
       "      <td>84</td>\n",
       "      <td>94</td>\n",
       "      <td>1113871</td>\n",
       "      <td>2005-06-14</td>\n",
       "      <td>204100000</td>\n",
       "    </tr>\n",
       "    <tr>\n",
       "      <th>26</th>\n",
       "      <td>A History of Violence</td>\n",
       "      <td>87</td>\n",
       "      <td>76</td>\n",
       "      <td>279919</td>\n",
       "      <td>2005-09-30</td>\n",
       "      <td>31500000</td>\n",
       "    </tr>\n",
       "    <tr>\n",
       "      <th>24</th>\n",
       "      <td>V for Vendetta</td>\n",
       "      <td>73</td>\n",
       "      <td>90</td>\n",
       "      <td>903618</td>\n",
       "      <td>2006-03-17</td>\n",
       "      <td>70500000</td>\n",
       "    </tr>\n",
       "    <tr>\n",
       "      <th>27</th>\n",
       "      <td>Superman Returns</td>\n",
       "      <td>75</td>\n",
       "      <td>60</td>\n",
       "      <td>516890</td>\n",
       "      <td>2006-06-28</td>\n",
       "      <td>200100000</td>\n",
       "    </tr>\n",
       "    <tr>\n",
       "      <th>28</th>\n",
       "      <td>Stardust</td>\n",
       "      <td>76</td>\n",
       "      <td>86</td>\n",
       "      <td>468295</td>\n",
       "      <td>2007-08-10</td>\n",
       "      <td>38226458</td>\n",
       "    </tr>\n",
       "    <tr>\n",
       "      <th>29</th>\n",
       "      <td>The Dark Knight</td>\n",
       "      <td>94</td>\n",
       "      <td>94</td>\n",
       "      <td>1831566</td>\n",
       "      <td>2008-07-18</td>\n",
       "      <td>533316061</td>\n",
       "    </tr>\n",
       "    <tr>\n",
       "      <th>30</th>\n",
       "      <td>The Spirit</td>\n",
       "      <td>14</td>\n",
       "      <td>25</td>\n",
       "      <td>122746</td>\n",
       "      <td>2008-12-25</td>\n",
       "      <td>19781879</td>\n",
       "    </tr>\n",
       "    <tr>\n",
       "      <th>31</th>\n",
       "      <td>Watchmen</td>\n",
       "      <td>64</td>\n",
       "      <td>71</td>\n",
       "      <td>1056884</td>\n",
       "      <td>2009-03-06</td>\n",
       "      <td>107453620</td>\n",
       "    </tr>\n",
       "    <tr>\n",
       "      <th>32</th>\n",
       "      <td>The Losers</td>\n",
       "      <td>48</td>\n",
       "      <td>53</td>\n",
       "      <td>144599</td>\n",
       "      <td>2010-04-23</td>\n",
       "      <td>23400000</td>\n",
       "    </tr>\n",
       "    <tr>\n",
       "      <th>33</th>\n",
       "      <td>Jonah Hex</td>\n",
       "      <td>12</td>\n",
       "      <td>20</td>\n",
       "      <td>170743</td>\n",
       "      <td>2010-06-18</td>\n",
       "      <td>10500000</td>\n",
       "    </tr>\n",
       "    <tr>\n",
       "      <th>34</th>\n",
       "      <td>RED</td>\n",
       "      <td>71</td>\n",
       "      <td>72</td>\n",
       "      <td>136021</td>\n",
       "      <td>2010-10-15</td>\n",
       "      <td>88900000</td>\n",
       "    </tr>\n",
       "    <tr>\n",
       "      <th>35</th>\n",
       "      <td>Green Lantern</td>\n",
       "      <td>26</td>\n",
       "      <td>45</td>\n",
       "      <td>149047</td>\n",
       "      <td>2011-06-17</td>\n",
       "      <td>116600000</td>\n",
       "    </tr>\n",
       "    <tr>\n",
       "      <th>36</th>\n",
       "      <td>The Dark Knight Rises</td>\n",
       "      <td>87</td>\n",
       "      <td>90</td>\n",
       "      <td>1210400</td>\n",
       "      <td>2012-07-20</td>\n",
       "      <td>448130642</td>\n",
       "    </tr>\n",
       "    <tr>\n",
       "      <th>37</th>\n",
       "      <td>Man of Steel</td>\n",
       "      <td>56</td>\n",
       "      <td>75</td>\n",
       "      <td>447680</td>\n",
       "      <td>2013-06-14</td>\n",
       "      <td>291021565</td>\n",
       "    </tr>\n",
       "    <tr>\n",
       "      <th>38</th>\n",
       "      <td>RED 2</td>\n",
       "      <td>44</td>\n",
       "      <td>63</td>\n",
       "      <td>93219</td>\n",
       "      <td>2013-07-19</td>\n",
       "      <td>53215979</td>\n",
       "    </tr>\n",
       "    <tr>\n",
       "      <th>39</th>\n",
       "      <td>Batman v Superman: Dawn of Justice</td>\n",
       "      <td>28</td>\n",
       "      <td>63</td>\n",
       "      <td>233088</td>\n",
       "      <td>2016-03-23</td>\n",
       "      <td>293792936</td>\n",
       "    </tr>\n",
       "    <tr>\n",
       "      <th>40</th>\n",
       "      <td>Suicide Squad</td>\n",
       "      <td>27</td>\n",
       "      <td>60</td>\n",
       "      <td>144586</td>\n",
       "      <td>2016-08-05</td>\n",
       "      <td>325021779</td>\n",
       "    </tr>\n",
       "    <tr>\n",
       "      <th>41</th>\n",
       "      <td>The Lego Batman Movie</td>\n",
       "      <td>90</td>\n",
       "      <td>80</td>\n",
       "      <td>46048</td>\n",
       "      <td>2017-02-10</td>\n",
       "      <td>175686290</td>\n",
       "    </tr>\n",
       "    <tr>\n",
       "      <th>42</th>\n",
       "      <td>Wonder Woman</td>\n",
       "      <td>93</td>\n",
       "      <td>88</td>\n",
       "      <td>127562</td>\n",
       "      <td>2017-06-02</td>\n",
       "      <td>412400625</td>\n",
       "    </tr>\n",
       "    <tr>\n",
       "      <th>43</th>\n",
       "      <td>Justice League</td>\n",
       "      <td>40</td>\n",
       "      <td>73</td>\n",
       "      <td>126172</td>\n",
       "      <td>2017-11-17</td>\n",
       "      <td>227032490</td>\n",
       "    </tr>\n",
       "  </tbody>\n",
       "</table>\n",
       "</div>"
      ],
      "text/plain": [
       "                                     name  score_critical  score_audience  \\\n",
       "19                      Road to Perdition              80              86   \n",
       "20  The League of Extraordinary Gentlemen              17              44   \n",
       "21                      American Splendor              94              86   \n",
       "22                               Catwoman               9              18   \n",
       "23                            Constantine              46              72   \n",
       "25                          Batman Begins              84              94   \n",
       "26                  A History of Violence              87              76   \n",
       "24                         V for Vendetta              73              90   \n",
       "27                       Superman Returns              75              60   \n",
       "28                               Stardust              76              86   \n",
       "29                        The Dark Knight              94              94   \n",
       "30                             The Spirit              14              25   \n",
       "31                               Watchmen              64              71   \n",
       "32                             The Losers              48              53   \n",
       "33                              Jonah Hex              12              20   \n",
       "34                                    RED              71              72   \n",
       "35                          Green Lantern              26              45   \n",
       "36                  The Dark Knight Rises              87              90   \n",
       "37                           Man of Steel              56              75   \n",
       "38                                  RED 2              44              63   \n",
       "39     Batman v Superman: Dawn of Justice              28              63   \n",
       "40                          Suicide Squad              27              60   \n",
       "41                  The Lego Batman Movie              90              80   \n",
       "42                           Wonder Woman              93              88   \n",
       "43                         Justice League              40              73   \n",
       "\n",
       "    count_audience In_Theaters  Box_Office  \n",
       "19          188635  2002-07-12   104054514  \n",
       "20          422489  2003-07-11    66327144  \n",
       "21           44524  2003-08-15     5977550  \n",
       "22          274698  2004-07-23    40200000  \n",
       "23          468035  2005-02-18    75400000  \n",
       "25         1113871  2005-06-14   204100000  \n",
       "26          279919  2005-09-30    31500000  \n",
       "24          903618  2006-03-17    70500000  \n",
       "27          516890  2006-06-28   200100000  \n",
       "28          468295  2007-08-10    38226458  \n",
       "29         1831566  2008-07-18   533316061  \n",
       "30          122746  2008-12-25    19781879  \n",
       "31         1056884  2009-03-06   107453620  \n",
       "32          144599  2010-04-23    23400000  \n",
       "33          170743  2010-06-18    10500000  \n",
       "34          136021  2010-10-15    88900000  \n",
       "35          149047  2011-06-17   116600000  \n",
       "36         1210400  2012-07-20   448130642  \n",
       "37          447680  2013-06-14   291021565  \n",
       "38           93219  2013-07-19    53215979  \n",
       "39          233088  2016-03-23   293792936  \n",
       "40          144586  2016-08-05   325021779  \n",
       "41           46048  2017-02-10   175686290  \n",
       "42          127562  2017-06-02   412400625  \n",
       "43          126172  2017-11-17   227032490  "
      ]
     },
     "execution_count": 75,
     "metadata": {},
     "output_type": "execute_result"
    }
   ],
   "source": [
    "dc = pd.read_csv(\"data/BasicInfo_DC.csv\").drop(['Unnamed: 0'], axis=1)[['name', 'score_critical', 'score_audience', 'count_audience', 'In_Theaters', 'Box_Office']].dropna()\n",
    "dc['In_Theaters'] = pd.to_datetime(dc['In_Theaters'])\n",
    "dc.sort_values('In_Theaters', inplace=True)\n",
    "dc['score_critical'] = dc['score_critical'].apply(lambda x: int(x[:-1]))\n",
    "dc['score_audience'] = dc['score_audience'].apply(lambda x: int(x[:-1]))\n",
    "dc['count_audience'] = dc['count_audience'].apply(lambda x: int(x.replace(\",\", \"\")))\n",
    "dc['Box_Office'] = dc['Box_Office'].apply(lambda x: int(x[1:].replace(\",\", \"\")))\n",
    "print(dc.shape)\n",
    "dc#.head()"
   ]
  },
  {
   "cell_type": "code",
   "execution_count": 74,
   "metadata": {
    "ExecuteTime": {
     "end_time": "2019-05-14T02:19:28.248127Z",
     "start_time": "2019-05-14T02:19:28.170298Z"
    }
   },
   "outputs": [
    {
     "name": "stdout",
     "output_type": "stream",
     "text": [
      "(19, 6)\n"
     ]
    },
    {
     "data": {
      "text/html": [
       "<div>\n",
       "<style scoped>\n",
       "    .dataframe tbody tr th:only-of-type {\n",
       "        vertical-align: middle;\n",
       "    }\n",
       "\n",
       "    .dataframe tbody tr th {\n",
       "        vertical-align: top;\n",
       "    }\n",
       "\n",
       "    .dataframe thead th {\n",
       "        text-align: right;\n",
       "    }\n",
       "</style>\n",
       "<table border=\"1\" class=\"dataframe\">\n",
       "  <thead>\n",
       "    <tr style=\"text-align: right;\">\n",
       "      <th></th>\n",
       "      <th>name</th>\n",
       "      <th>score_critical</th>\n",
       "      <th>score_audience</th>\n",
       "      <th>count_audience</th>\n",
       "      <th>In_Theaters</th>\n",
       "      <th>Box_Office</th>\n",
       "    </tr>\n",
       "  </thead>\n",
       "  <tbody>\n",
       "    <tr>\n",
       "      <th>1</th>\n",
       "      <td>Iron Man</td>\n",
       "      <td>93</td>\n",
       "      <td>91</td>\n",
       "      <td>1080703</td>\n",
       "      <td>2008-04-14</td>\n",
       "      <td>318298180</td>\n",
       "    </tr>\n",
       "    <tr>\n",
       "      <th>2</th>\n",
       "      <td>The Incredible Hulk</td>\n",
       "      <td>67</td>\n",
       "      <td>70</td>\n",
       "      <td>738333</td>\n",
       "      <td>2008-06-12</td>\n",
       "      <td>134518390</td>\n",
       "    </tr>\n",
       "    <tr>\n",
       "      <th>3</th>\n",
       "      <td>Iron Man 2</td>\n",
       "      <td>73</td>\n",
       "      <td>71</td>\n",
       "      <td>479041</td>\n",
       "      <td>2010-05-07</td>\n",
       "      <td>312057433</td>\n",
       "    </tr>\n",
       "    <tr>\n",
       "      <th>4</th>\n",
       "      <td>Thor</td>\n",
       "      <td>77</td>\n",
       "      <td>76</td>\n",
       "      <td>246245</td>\n",
       "      <td>2011-05-06</td>\n",
       "      <td>181015141</td>\n",
       "    </tr>\n",
       "    <tr>\n",
       "      <th>0</th>\n",
       "      <td>Captain America: The First Avenger</td>\n",
       "      <td>80</td>\n",
       "      <td>74</td>\n",
       "      <td>187978</td>\n",
       "      <td>2011-07-22</td>\n",
       "      <td>176636816</td>\n",
       "    </tr>\n",
       "    <tr>\n",
       "      <th>5</th>\n",
       "      <td>The Avengers</td>\n",
       "      <td>92</td>\n",
       "      <td>91</td>\n",
       "      <td>1133574</td>\n",
       "      <td>2012-05-04</td>\n",
       "      <td>623279547</td>\n",
       "    </tr>\n",
       "    <tr>\n",
       "      <th>6</th>\n",
       "      <td>Iron Man Three</td>\n",
       "      <td>79</td>\n",
       "      <td>78</td>\n",
       "      <td>483866</td>\n",
       "      <td>2013-05-03</td>\n",
       "      <td>408992272</td>\n",
       "    </tr>\n",
       "    <tr>\n",
       "      <th>7</th>\n",
       "      <td>Thor: The Dark World</td>\n",
       "      <td>66</td>\n",
       "      <td>76</td>\n",
       "      <td>309522</td>\n",
       "      <td>2013-11-08</td>\n",
       "      <td>206360018</td>\n",
       "    </tr>\n",
       "    <tr>\n",
       "      <th>8</th>\n",
       "      <td>Captain America: The Winter Soldier</td>\n",
       "      <td>90</td>\n",
       "      <td>92</td>\n",
       "      <td>280702</td>\n",
       "      <td>2014-04-04</td>\n",
       "      <td>228636083</td>\n",
       "    </tr>\n",
       "    <tr>\n",
       "      <th>9</th>\n",
       "      <td>Guardians of the Galaxy</td>\n",
       "      <td>91</td>\n",
       "      <td>92</td>\n",
       "      <td>253935</td>\n",
       "      <td>2014-08-01</td>\n",
       "      <td>270592504</td>\n",
       "    </tr>\n",
       "    <tr>\n",
       "      <th>11</th>\n",
       "      <td>Avengers: Age of Ultron</td>\n",
       "      <td>75</td>\n",
       "      <td>83</td>\n",
       "      <td>287050</td>\n",
       "      <td>2015-05-01</td>\n",
       "      <td>429113729</td>\n",
       "    </tr>\n",
       "    <tr>\n",
       "      <th>12</th>\n",
       "      <td>Ant-Man</td>\n",
       "      <td>82</td>\n",
       "      <td>86</td>\n",
       "      <td>165575</td>\n",
       "      <td>2015-07-17</td>\n",
       "      <td>138002223</td>\n",
       "    </tr>\n",
       "    <tr>\n",
       "      <th>13</th>\n",
       "      <td>Captain America: Civil War</td>\n",
       "      <td>91</td>\n",
       "      <td>89</td>\n",
       "      <td>178314</td>\n",
       "      <td>2016-05-06</td>\n",
       "      <td>408080554</td>\n",
       "    </tr>\n",
       "    <tr>\n",
       "      <th>15</th>\n",
       "      <td>Doctor Strange</td>\n",
       "      <td>89</td>\n",
       "      <td>86</td>\n",
       "      <td>108784</td>\n",
       "      <td>2016-11-04</td>\n",
       "      <td>232630718</td>\n",
       "    </tr>\n",
       "    <tr>\n",
       "      <th>10</th>\n",
       "      <td>Guardians of the Galaxy Vol. 2</td>\n",
       "      <td>83</td>\n",
       "      <td>87</td>\n",
       "      <td>107269</td>\n",
       "      <td>2017-05-05</td>\n",
       "      <td>389804217</td>\n",
       "    </tr>\n",
       "    <tr>\n",
       "      <th>14</th>\n",
       "      <td>Spider-Man: Homecoming</td>\n",
       "      <td>92</td>\n",
       "      <td>88</td>\n",
       "      <td>105692</td>\n",
       "      <td>2017-07-07</td>\n",
       "      <td>334166825</td>\n",
       "    </tr>\n",
       "    <tr>\n",
       "      <th>16</th>\n",
       "      <td>Thor: Ragnarok</td>\n",
       "      <td>92</td>\n",
       "      <td>87</td>\n",
       "      <td>92154</td>\n",
       "      <td>2017-11-03</td>\n",
       "      <td>314971245</td>\n",
       "    </tr>\n",
       "    <tr>\n",
       "      <th>17</th>\n",
       "      <td>Black Panther</td>\n",
       "      <td>97</td>\n",
       "      <td>79</td>\n",
       "      <td>87485</td>\n",
       "      <td>2018-02-16</td>\n",
       "      <td>501105037</td>\n",
       "    </tr>\n",
       "    <tr>\n",
       "      <th>18</th>\n",
       "      <td>Avengers: Infinity War</td>\n",
       "      <td>85</td>\n",
       "      <td>91</td>\n",
       "      <td>54430</td>\n",
       "      <td>2018-04-27</td>\n",
       "      <td>664987816</td>\n",
       "    </tr>\n",
       "  </tbody>\n",
       "</table>\n",
       "</div>"
      ],
      "text/plain": [
       "                                   name  score_critical  score_audience  \\\n",
       "1                              Iron Man              93              91   \n",
       "2                   The Incredible Hulk              67              70   \n",
       "3                            Iron Man 2              73              71   \n",
       "4                                  Thor              77              76   \n",
       "0    Captain America: The First Avenger              80              74   \n",
       "5                          The Avengers              92              91   \n",
       "6                        Iron Man Three              79              78   \n",
       "7                  Thor: The Dark World              66              76   \n",
       "8   Captain America: The Winter Soldier              90              92   \n",
       "9               Guardians of the Galaxy              91              92   \n",
       "11              Avengers: Age of Ultron              75              83   \n",
       "12                              Ant-Man              82              86   \n",
       "13           Captain America: Civil War              91              89   \n",
       "15                       Doctor Strange              89              86   \n",
       "10       Guardians of the Galaxy Vol. 2              83              87   \n",
       "14               Spider-Man: Homecoming              92              88   \n",
       "16                       Thor: Ragnarok              92              87   \n",
       "17                        Black Panther              97              79   \n",
       "18               Avengers: Infinity War              85              91   \n",
       "\n",
       "    count_audience In_Theaters  Box_Office  \n",
       "1          1080703  2008-04-14   318298180  \n",
       "2           738333  2008-06-12   134518390  \n",
       "3           479041  2010-05-07   312057433  \n",
       "4           246245  2011-05-06   181015141  \n",
       "0           187978  2011-07-22   176636816  \n",
       "5          1133574  2012-05-04   623279547  \n",
       "6           483866  2013-05-03   408992272  \n",
       "7           309522  2013-11-08   206360018  \n",
       "8           280702  2014-04-04   228636083  \n",
       "9           253935  2014-08-01   270592504  \n",
       "11          287050  2015-05-01   429113729  \n",
       "12          165575  2015-07-17   138002223  \n",
       "13          178314  2016-05-06   408080554  \n",
       "15          108784  2016-11-04   232630718  \n",
       "10          107269  2017-05-05   389804217  \n",
       "14          105692  2017-07-07   334166825  \n",
       "16           92154  2017-11-03   314971245  \n",
       "17           87485  2018-02-16   501105037  \n",
       "18           54430  2018-04-27   664987816  "
      ]
     },
     "execution_count": 74,
     "metadata": {},
     "output_type": "execute_result"
    }
   ],
   "source": [
    "mv = pd.read_csv(\"data/BasicInfo_Marvel.csv\").drop(['Unnamed: 0'], axis=1)[['name', 'score_critical', 'score_audience', 'count_audience', 'In_Theaters', 'Box_Office']].dropna()\n",
    "mv['In_Theaters'] = pd.to_datetime(mv['In_Theaters'])\n",
    "mv.sort_values('In_Theaters', inplace=True)\n",
    "mv['score_critical'] = mv['score_critical'].apply(lambda x: int(x[:-1]))\n",
    "mv['score_audience'] = mv['score_audience'].apply(lambda x: int(x[:-1]))\n",
    "mv['count_audience'] = mv['count_audience'].apply(lambda x: int(x.replace(\",\", \"\")))\n",
    "mv['Box_Office'] = mv['Box_Office'].apply(lambda x: int(x[1:].replace(\",\", \"\")))\n",
    "print(mv.shape)\n",
    "mv#.head()"
   ]
  },
  {
   "cell_type": "code",
   "execution_count": 82,
   "metadata": {
    "ExecuteTime": {
     "end_time": "2019-05-14T02:24:20.787432Z",
     "start_time": "2019-05-14T02:24:20.092630Z"
    }
   },
   "outputs": [
    {
     "data": {
      "text/plain": [
       "<matplotlib.legend.Legend at 0x1da4dd29be0>"
      ]
     },
     "execution_count": 82,
     "metadata": {},
     "output_type": "execute_result"
    },
    {
     "data": {
      "image/png": "[encoded data removed]",
      "text/plain": [
       "<Figure size 720x720 with 4 Axes>"
      ]
     },
     "metadata": {
      "needs_background": "light"
     },
     "output_type": "display_data"
    }
   ],
   "source": [
    "fig = plt.figure(figsize=(10, 10))\n",
    "\n",
    "ax = fig.add_subplot(221)\n",
    "ax.plot(dc['In_Theaters'], dc['score_critical'])\n",
    "ax.plot(mv['In_Theaters'], mv['score_critical'])\n",
    "ax.set_title(\"Critical score time series\")\n",
    "ax.set_xlabel(\"Year\")\n",
    "ax.set_ylabel(\"Score\")\n",
    "ax.legend([\"DC\", \"Marvel\"])\n",
    "\n",
    "ax = fig.add_subplot(222)\n",
    "ax.plot(dc['In_Theaters'], dc['score_audience'])\n",
    "ax.plot(mv['In_Theaters'], mv['score_audience'])\n",
    "ax.set_title(\"Audience score time series\")\n",
    "ax.set_xlabel(\"Year\")\n",
    "ax.set_ylabel(\"Score\")\n",
    "ax.legend([\"DC\", \"Marvel\"])\n",
    "\n",
    "ax = fig.add_subplot(223)\n",
    "ax.plot(dc['In_Theaters'], dc['Box_Office']/1000000)\n",
    "ax.plot(mv['In_Theaters'], mv['Box_Office']/1000000)\n",
    "ax.set_title(\"Box Office time series (million)\")\n",
    "ax.set_xlabel(\"Year\")\n",
    "ax.set_ylabel(\"Box Office (million)\")\n",
    "ax.legend([\"DC\", \"Marvel\"])\n",
    "\n",
    "ax = fig.add_subplot(224)\n",
    "ax.plot(dc['In_Theaters'], dc['count_audience']/1000000)\n",
    "ax.plot(mv['In_Theaters'], mv['count_audience']/1000000)\n",
    "ax.set_title(\"Count of audiences time series (million)\")\n",
    "ax.set_xlabel(\"Year\")\n",
    "ax.set_ylabel(\"Count of audiences (million)\")\n",
    "ax.legend([\"DC\", \"Marvel\"])"
   ]
  },
  {
   "cell_type": "code",
   "execution_count": 88,
   "metadata": {
    "ExecuteTime": {
     "end_time": "2019-05-14T02:26:19.707374Z",
     "start_time": "2019-05-14T02:26:19.410127Z"
    }
   },
   "outputs": [
    {
     "data": {
      "text/plain": [
       "<matplotlib.legend.Legend at 0x1da4f586c18>"
      ]
     },
     "execution_count": 88,
     "metadata": {},
     "output_type": "execute_result"
    },
    {
     "data": {
      "image/png": "[encoded data removed]",
      "text/plain": [
       "<Figure size 720x360 with 2 Axes>"
      ]
     },
     "metadata": {
      "needs_background": "light"
     },
     "output_type": "display_data"
    }
   ],
   "source": [
    "fig = plt.figure(figsize=(10, 5))\n",
    "\n",
    "ax = fig.add_subplot(121)\n",
    "ax.plot(dc['In_Theaters'], dc['score_audience'])\n",
    "ax.plot(dc['In_Theaters'], dc['Box_Office']/1000000)\n",
    "ax.set_title(\"DC Score & Box Office time series\")\n",
    "ax.set_xlabel(\"Year\")\n",
    "ax.set_ylabel(\"Score\")\n",
    "ax.legend([\"score\", \"Box Office\"])\n",
    "\n",
    "ax = fig.add_subplot(122)\n",
    "ax.plot(mv['In_Theaters'], mv['score_audience'])\n",
    "ax.plot(mv['In_Theaters'], mv['Box_Office']/1000000)\n",
    "ax.set_title(\"Marvel Score & Box Office time series\")\n",
    "ax.set_xlabel(\"Year\")\n",
    "ax.set_ylabel(\"Score\")\n",
    "ax.legend([\"score\", \"Box Office\"])"
   ]
  },
  {
   "cell_type": "markdown",
   "metadata": {},
   "source": [
    "# Does better movie (represented by high score) achieve higher box office?\n"
   ]
  },
  {
   "cell_type": "code",
   "execution_count": 119,
   "metadata": {
    "ExecuteTime": {
     "end_time": "2019-05-14T02:36:45.029604Z",
     "start_time": "2019-05-14T02:36:44.927911Z"
    }
   },
   "outputs": [
    {
     "name": "stderr",
     "output_type": "stream",
     "text": [
      "C:\\ProgramData\\Anaconda3\\lib\\site-packages\\ipykernel_launcher.py:3: SettingWithCopyWarning: \n",
      "A value is trying to be set on a copy of a slice from a DataFrame.\n",
      "Try using .loc[row_indexer,col_indexer] = value instead\n",
      "\n",
      "See the caveats in the documentation: http://pandas.pydata.org/pandas-docs/stable/indexing.html#indexing-view-versus-copy\n",
      "  This is separate from the ipykernel package so we can avoid doing imports until\n"
     ]
    }
   ],
   "source": [
    "dcmv = dc.append(mv)\n",
    "X = dcmv[['score_audience', 'In_Theaters']]\n",
    "X['In_Theaters'] = X['In_Theaters'].apply(lambda x: x.year)\n",
    "Y = dcmv[['Box_Office']]"
   ]
  },
  {
   "cell_type": "markdown",
   "metadata": {},
   "source": [
    "## correlation"
   ]
  },
  {
   "cell_type": "code",
   "execution_count": 93,
   "metadata": {
    "ExecuteTime": {
     "end_time": "2019-05-14T02:28:09.773751Z",
     "start_time": "2019-05-14T02:28:09.767769Z"
    }
   },
   "outputs": [
    {
     "data": {
      "text/plain": [
       "0.45398795461505403"
      ]
     },
     "execution_count": 93,
     "metadata": {},
     "output_type": "execute_result"
    }
   ],
   "source": [
    "np.corrcoef(dc['score_audience'], dc['Box_Office'])[0][1]"
   ]
  },
  {
   "cell_type": "code",
   "execution_count": 94,
   "metadata": {
    "ExecuteTime": {
     "end_time": "2019-05-14T02:28:16.859936Z",
     "start_time": "2019-05-14T02:28:16.853989Z"
    }
   },
   "outputs": [
    {
     "data": {
      "text/plain": [
       "0.4072870333304358"
      ]
     },
     "execution_count": 94,
     "metadata": {},
     "output_type": "execute_result"
    }
   ],
   "source": [
    "np.corrcoef(mv['score_audience'], mv['Box_Office'])[0][1]"
   ]
  },
  {
   "cell_type": "code",
   "execution_count": 122,
   "metadata": {
    "ExecuteTime": {
     "end_time": "2019-05-14T02:38:18.331081Z",
     "start_time": "2019-05-14T02:38:18.327092Z"
    }
   },
   "outputs": [
    {
     "data": {
      "text/plain": [
       "0.5260490628716065"
      ]
     },
     "execution_count": 122,
     "metadata": {},
     "output_type": "execute_result"
    }
   ],
   "source": [
    "np.corrcoef(dcmv['score_audience'], dcmv['Box_Office'])[0][1]"
   ]
  },
  {
   "cell_type": "markdown",
   "metadata": {},
   "source": [
    "## pearsonr   "
   ]
  },
  {
   "cell_type": "code",
   "execution_count": 95,
   "metadata": {
    "ExecuteTime": {
     "end_time": "2019-05-14T02:28:55.950283Z",
     "start_time": "2019-05-14T02:28:53.956016Z"
    }
   },
   "outputs": [],
   "source": [
    "from scipy.stats.stats import pearsonr   "
   ]
  },
  {
   "cell_type": "code",
   "execution_count": 98,
   "metadata": {
    "ExecuteTime": {
     "end_time": "2019-05-14T02:29:18.223726Z",
     "start_time": "2019-05-14T02:29:18.217743Z"
    }
   },
   "outputs": [
    {
     "data": {
      "text/plain": [
       "(0.4539879546150541, 0.02263124868681917)"
      ]
     },
     "execution_count": 98,
     "metadata": {},
     "output_type": "execute_result"
    }
   ],
   "source": [
    "pearsonr(dc['score_audience'], dc['Box_Office'])"
   ]
  },
  {
   "cell_type": "code",
   "execution_count": 99,
   "metadata": {
    "ExecuteTime": {
     "end_time": "2019-05-14T02:29:18.411380Z",
     "start_time": "2019-05-14T02:29:18.406394Z"
    }
   },
   "outputs": [
    {
     "data": {
      "text/plain": [
       "(0.4072870333304358, 0.08349460633705934)"
      ]
     },
     "execution_count": 99,
     "metadata": {},
     "output_type": "execute_result"
    }
   ],
   "source": [
    "pearsonr(mv['score_audience'], mv['Box_Office'])"
   ]
  },
  {
   "cell_type": "code",
   "execution_count": 123,
   "metadata": {
    "ExecuteTime": {
     "end_time": "2019-05-14T02:38:28.289314Z",
     "start_time": "2019-05-14T02:38:28.285288Z"
    }
   },
   "outputs": [
    {
     "data": {
      "text/plain": [
       "(0.5260490628716066, 0.00024499686710198086)"
      ]
     },
     "execution_count": 123,
     "metadata": {},
     "output_type": "execute_result"
    }
   ],
   "source": [
    "pearsonr(dcmv['score_audience'], dcmv['Box_Office'])"
   ]
  },
  {
   "cell_type": "markdown",
   "metadata": {},
   "source": [
    "## spearmanr"
   ]
  },
  {
   "cell_type": "code",
   "execution_count": 100,
   "metadata": {
    "ExecuteTime": {
     "end_time": "2019-05-14T02:30:22.086729Z",
     "start_time": "2019-05-14T02:30:22.082705Z"
    }
   },
   "outputs": [],
   "source": [
    "from scipy.stats import spearmanr"
   ]
  },
  {
   "cell_type": "code",
   "execution_count": 101,
   "metadata": {
    "ExecuteTime": {
     "end_time": "2019-05-14T02:30:31.690512Z",
     "start_time": "2019-05-14T02:30:31.685494Z"
    }
   },
   "outputs": [
    {
     "data": {
      "text/plain": [
       "SpearmanrResult(correlation=0.41533485656529073, pvalue=0.0389530516339231)"
      ]
     },
     "execution_count": 101,
     "metadata": {},
     "output_type": "execute_result"
    }
   ],
   "source": [
    "spearmanr(dc['score_audience'], dc['Box_Office'])"
   ]
  },
  {
   "cell_type": "code",
   "execution_count": 102,
   "metadata": {
    "ExecuteTime": {
     "end_time": "2019-05-14T02:30:37.109887Z",
     "start_time": "2019-05-14T02:30:37.103936Z"
    }
   },
   "outputs": [
    {
     "data": {
      "text/plain": [
       "SpearmanrResult(correlation=0.41285467203897863, pvalue=0.07895754195173026)"
      ]
     },
     "execution_count": 102,
     "metadata": {},
     "output_type": "execute_result"
    }
   ],
   "source": [
    "spearmanr(mv['score_audience'], mv['Box_Office'])"
   ]
  },
  {
   "cell_type": "code",
   "execution_count": 124,
   "metadata": {
    "ExecuteTime": {
     "end_time": "2019-05-14T02:38:44.259881Z",
     "start_time": "2019-05-14T02:38:44.254894Z"
    }
   },
   "outputs": [
    {
     "data": {
      "text/plain": [
       "SpearmanrResult(correlation=0.5580218564216707, pvalue=8.295854987547537e-05)"
      ]
     },
     "execution_count": 124,
     "metadata": {},
     "output_type": "execute_result"
    }
   ],
   "source": [
    "spearmanr(dcmv['score_audience'], dcmv['Box_Office'])"
   ]
  },
  {
   "cell_type": "markdown",
   "metadata": {},
   "source": [
    "## Linear model"
   ]
  },
  {
   "cell_type": "code",
   "execution_count": 103,
   "metadata": {
    "ExecuteTime": {
     "end_time": "2019-05-14T02:31:22.838849Z",
     "start_time": "2019-05-14T02:31:20.299830Z"
    }
   },
   "outputs": [],
   "source": [
    "import statsmodels.api as sm"
   ]
  },
  {
   "cell_type": "code",
   "execution_count": 120,
   "metadata": {
    "ExecuteTime": {
     "end_time": "2019-05-14T02:36:47.758613Z",
     "start_time": "2019-05-14T02:36:47.741631Z"
    }
   },
   "outputs": [
    {
     "data": {
      "text/html": [
       "<table class=\"simpletable\">\n",
       "<caption>OLS Regression Results</caption>\n",
       "<tr>\n",
       "  <th>Dep. Variable:</th>       <td>Box_Office</td>    <th>  R-squared:         </th> <td>   0.748</td>\n",
       "</tr>\n",
       "<tr>\n",
       "  <th>Model:</th>                   <td>OLS</td>       <th>  Adj. R-squared:    </th> <td>   0.736</td>\n",
       "</tr>\n",
       "<tr>\n",
       "  <th>Method:</th>             <td>Least Squares</td>  <th>  F-statistic:       </th> <td>   62.47</td>\n",
       "</tr>\n",
       "<tr>\n",
       "  <th>Date:</th>             <td>Mon, 13 May 2019</td> <th>  Prob (F-statistic):</th> <td>2.60e-13</td>\n",
       "</tr>\n",
       "<tr>\n",
       "  <th>Time:</th>                 <td>22:36:47</td>     <th>  Log-Likelihood:    </th> <td> -889.11</td>\n",
       "</tr>\n",
       "<tr>\n",
       "  <th>No. Observations:</th>      <td>    44</td>      <th>  AIC:               </th> <td>   1782.</td>\n",
       "</tr>\n",
       "<tr>\n",
       "  <th>Df Residuals:</th>          <td>    42</td>      <th>  BIC:               </th> <td>   1786.</td>\n",
       "</tr>\n",
       "<tr>\n",
       "  <th>Df Model:</th>              <td>     2</td>      <th>                     </th>     <td> </td>   \n",
       "</tr>\n",
       "<tr>\n",
       "  <th>Covariance Type:</th>      <td>nonrobust</td>    <th>                     </th>     <td> </td>   \n",
       "</tr>\n",
       "</table>\n",
       "<table class=\"simpletable\">\n",
       "<tr>\n",
       "         <td></td>           <th>coef</th>     <th>std err</th>      <th>t</th>      <th>P>|t|</th>  <th>[0.025</th>    <th>0.975]</th>  \n",
       "</tr>\n",
       "<tr>\n",
       "  <th>score_audience</th> <td> 4.651e+06</td> <td> 1.17e+06</td> <td>    3.967</td> <td> 0.000</td> <td> 2.28e+06</td> <td> 7.02e+06</td>\n",
       "</tr>\n",
       "<tr>\n",
       "  <th>In_Theaters</th>    <td>-5.615e+04</td> <td> 4.47e+04</td> <td>   -1.255</td> <td> 0.216</td> <td>-1.46e+05</td> <td> 3.41e+04</td>\n",
       "</tr>\n",
       "</table>\n",
       "<table class=\"simpletable\">\n",
       "<tr>\n",
       "  <th>Omnibus:</th>       <td> 0.740</td> <th>  Durbin-Watson:     </th> <td>   1.697</td>\n",
       "</tr>\n",
       "<tr>\n",
       "  <th>Prob(Omnibus):</th> <td> 0.691</td> <th>  Jarque-Bera (JB):  </th> <td>   0.713</td>\n",
       "</tr>\n",
       "<tr>\n",
       "  <th>Skew:</th>          <td> 0.285</td> <th>  Prob(JB):          </th> <td>   0.700</td>\n",
       "</tr>\n",
       "<tr>\n",
       "  <th>Kurtosis:</th>      <td> 2.749</td> <th>  Cond. No.          </th> <td>    106.</td>\n",
       "</tr>\n",
       "</table><br/><br/>Warnings:<br/>[1] Standard Errors assume that the covariance matrix of the errors is correctly specified."
      ],
      "text/plain": [
       "<class 'statsmodels.iolib.summary.Summary'>\n",
       "\"\"\"\n",
       "                            OLS Regression Results                            \n",
       "==============================================================================\n",
       "Dep. Variable:             Box_Office   R-squared:                       0.748\n",
       "Model:                            OLS   Adj. R-squared:                  0.736\n",
       "Method:                 Least Squares   F-statistic:                     62.47\n",
       "Date:                Mon, 13 May 2019   Prob (F-statistic):           2.60e-13\n",
       "Time:                        22:36:47   Log-Likelihood:                -889.11\n",
       "No. Observations:                  44   AIC:                             1782.\n",
       "Df Residuals:                      42   BIC:                             1786.\n",
       "Df Model:                           2                                         \n",
       "Covariance Type:            nonrobust                                         \n",
       "==================================================================================\n",
       "                     coef    std err          t      P>|t|      [0.025      0.975]\n",
       "----------------------------------------------------------------------------------\n",
       "score_audience  4.651e+06   1.17e+06      3.967      0.000    2.28e+06    7.02e+06\n",
       "In_Theaters    -5.615e+04   4.47e+04     -1.255      0.216   -1.46e+05    3.41e+04\n",
       "==============================================================================\n",
       "Omnibus:                        0.740   Durbin-Watson:                   1.697\n",
       "Prob(Omnibus):                  0.691   Jarque-Bera (JB):                0.713\n",
       "Skew:                           0.285   Prob(JB):                        0.700\n",
       "Kurtosis:                       2.749   Cond. No.                         106.\n",
       "==============================================================================\n",
       "\n",
       "Warnings:\n",
       "[1] Standard Errors assume that the covariance matrix of the errors is correctly specified.\n",
       "\"\"\""
      ]
     },
     "execution_count": 120,
     "metadata": {},
     "output_type": "execute_result"
    }
   ],
   "source": [
    "mod = sm.OLS(Y,X).fit()\n",
    "mod.summary()"
   ]
  },
  {
   "cell_type": "code",
   "execution_count": 121,
   "metadata": {
    "ExecuteTime": {
     "end_time": "2019-05-14T02:37:26.541018Z",
     "start_time": "2019-05-14T02:37:26.533995Z"
    }
   },
   "outputs": [
    {
     "data": {
      "text/plain": [
       "score_audience    0.000278\n",
       "In_Theaters       0.216327\n",
       "dtype: float64"
      ]
     },
     "execution_count": 121,
     "metadata": {},
     "output_type": "execute_result"
    }
   ],
   "source": [
    "mod.pvalues"
   ]
  }
 ],
 "metadata": {
  "kernelspec": {
   "display_name": "Python 3",
   "language": "python",
   "name": "python3"
  },
  "language_info": {
   "codemirror_mode": {
    "name": "ipython",
    "version": 3
   },
   "file_extension": ".py",
   "mimetype": "text/x-python",
   "name": "python",
   "nbconvert_exporter": "python",
   "pygments_lexer": "ipython3",
   "version": "3.6.8"
  },
  "toc": {
   "base_numbering": 1,
   "nav_menu": {},
   "number_sections": true,
   "sideBar": true,
   "skip_h1_title": false,
   "title_cell": "Table of Contents",
   "title_sidebar": "Contents",
   "toc_cell": false,
   "toc_position": {},
   "toc_section_display": true,
   "toc_window_display": false
  }
 },
 "nbformat": 4,
 "nbformat_minor": 2
}
